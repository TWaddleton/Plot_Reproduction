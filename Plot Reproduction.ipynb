{
 "cells": [
  {
   "cell_type": "code",
   "execution_count": 1,
   "metadata": {},
   "outputs": [],
   "source": [
    "import numpy as np\n",
    "import matplotlib.pyplot as plt\n",
    "import scipy.integrate\n",
    "import time\n",
    "\n",
    "#Conversions\n",
    "\n",
    "# 1 year = 31536000 s\n",
    "# 1 pc = 3.086e16 m\n",
    "# 1 M_sun = 1.989e30 kg\n",
    "\n",
    "#Some Constants Used Throughout\n",
    "\n",
    "t_obsy = 4                  #years\n",
    "t_obs = t_obsy*31536000     #s\n",
    "v_t = 6.481*10**(-12)       #pc/s\n",
    "d_l = 50                    #pc\n",
    "d_s = 2000                  #pc\n",
    "sigv = 3*10**(-28)          #cm^3/s\n",
    "m_chi = 100                 #GeV\n",
    "pi = 3.141592653\n",
    "\n",
    "Smin = []                   #The four cutoffs of Smin, in microarcseconds\n",
    "Smin.append(4)\n",
    "Smin.append(16)\n",
    "Smin.append(64)\n",
    "Smin.append(256)\n",
    "\n",
    "#Some Parameters\n",
    "\n",
    "N = 82                      #Number of Epochs\n",
    "rho_0 = 2.0*10**8           #Maximum core density from dark matter annihilation (M_sun/pc^3)\n",
    "m_trunc = 100               #Parameter dictating truncation radius\n",
    "m_core = 1                  #Parameter dictating core radius\n",
    "\n",
    "#Some Functions Used Throughout\n",
    "\n",
    "def r_t(m):                                        #Truncation Radius in pc\n",
    "    return (0.019*(1000/1)*(m*(1+3250))**(1/3))\n",
    "\n",
    "def r_c(m):                                        #Core Radius in pc\n",
    "    return (3.3*10**(-4)*m**(1/3))\n",
    "\n",
    "def S(b, p):                                       #Signal in as\n",
    "    return ((N**(1/2))*((b**2 + p**2)**(1/2)))\n",
    "\n",
    "def rho(r,m):                                      #Density in M_sun/pc^3\n",
    "    if(r < r_t(m)):\n",
    "        return (rho_0*(1+r/(r_c(m)))**(-9/4))\n",
    "    else:\n",
    "        return 0\n",
    "    \n",
    "def A_l(by, bx):                                   #Lensed Area in as^2\n",
    "    return (by*bx)\n",
    "\n",
    "def M2D(xi, z):                                    #M2D function\n",
    "    return 4*pi*rho_0*(1+(np.sqrt((xi**2) + (z**2))/r_c(m_core)))**(-9/4)*xi\n",
    "\n",
    "def func(xi):                                      #Boundary function in M2D integral\n",
    "    return np.sqrt(r_t(m_trunc)**2 - xi**2)\n",
    "\n",
    "def mass_int(xip):\n",
    "    return scipy.integrate.dblquad(M2D, 0, xip, 0, func)\n",
    "\n",
    "def beta_mag(by, bx):\n",
    "    return np.sqrt(bx**2 + by**2)"
   ]
  },
  {
   "cell_type": "code",
   "execution_count": 2,
   "metadata": {},
   "outputs": [],
   "source": [
    "beta_twid = np.linspace(0, 100.0, 1001)\n",
    "phi = np.linspace(0, 1.0, 11)\n",
    "\n",
    "beta_twid_pass = []\n",
    "phi_pass = []\n",
    "\n",
    "beta_y = v_t*t_obs/d_l*beta_twid\n",
    "beta_x0 = v_t*t_obs/d_l*phi\n",
    "\n",
    "mass = []\n",
    "area = []\n",
    "\n",
    "for i in range(np.size(beta_twid)):\n",
    "    for j in range(np.size(phi)):\n",
    "        if (S(beta_y[i],beta_x0[j]) > Smin[3]*10**(-6)):\n",
    "            beta_twid_pass.append(beta_twid[i])\n",
    "            phi_pass.append(phi[j])\n",
    "            \n",
    "beta_y_pass = [v_t*t_obs/d_l*x for x in beta_twid_pass]\n",
    "beta_x0_pass = [v_t*t_obs/d_l*y for y in phi_pass]\n",
    "            \n",
    "#for i in range(np.size(beta_twid_pass)):\n",
    "#    for j in range(np.size(phi_pass)):\n",
    "#        area.append(A_l(beta_y_pass[i],beta_x0_pass[j]))\n",
    "#        \n",
    "#        xip = d_l*beta_mag(beta_y_pass[i], beta_x0_pass[j])\n",
    "#        if  xip < r_t(m_trunc):\n",
    "#            value, error = mass_int(xip)\n",
    "#            mass.append(value)\n",
    "            \n",
    "#    if i%10 == 0:\n",
    "#        print( i / np.size(beta_twid_pass))"
   ]
  },
  {
   "cell_type": "code",
   "execution_count": 3,
   "metadata": {},
   "outputs": [
    {
     "data": {
      "text/plain": [
       "10826"
      ]
     },
     "execution_count": 3,
     "metadata": {},
     "output_type": "execute_result"
    }
   ],
   "source": [
    "a = d_l/(v_t*t_obs)\n",
    "\n",
    "np.size(beta_x0_pass)"
   ]
  },
  {
   "cell_type": "code",
   "execution_count": 4,
   "metadata": {},
   "outputs": [
    {
     "name": "stderr",
     "output_type": "stream",
     "text": [
      "/home/tommy/anaconda3/lib/python3.6/site-packages/scipy/integrate/quadpack.py:385: IntegrationWarning: The integral is probably divergent, or slowly convergent.\n",
      "  warnings.warn(msg, IntegrationWarning)\n"
     ]
    },
    {
     "name": "stdout",
     "output_type": "stream",
     "text": [
      "13.137790441513062\n"
     ]
    },
    {
     "name": "stderr",
     "output_type": "stream",
     "text": [
      "/home/tommy/anaconda3/lib/python3.6/site-packages/scipy/integrate/quadpack.py:385: IntegrationWarning: The maximum number of subdivisions (50) has been achieved.\n",
      "  If increasing the limit yields no improvement it is advised to analyze \n",
      "  the integrand in order to determine the difficulties.  If the position of a \n",
      "  local difficulty can be determined (singularity, discontinuity) one will \n",
      "  probably gain from splitting up the interval and calling the integrator \n",
      "  on the subranges.  Perhaps a special-purpose integrator should be used.\n",
      "  warnings.warn(msg, IntegrationWarning)\n"
     ]
    }
   ],
   "source": [
    "start = time.time()\n",
    "scipy.integrate.dblquad(M2D, 0, 4, 0, func)\n",
    "end = time.time()\n",
    "print(end-start)"
   ]
  },
  {
   "cell_type": "markdown",
   "metadata": {},
   "source": [
    "The integral takes a while to run, now up to ~13 seconds from the previous ~9 seconds. I'm also not really liking the associated errors. I might just have a bad computer, definitiely a possibility."
   ]
  },
  {
   "cell_type": "code",
   "execution_count": null,
   "metadata": {},
   "outputs": [],
   "source": []
  }
 ],
 "metadata": {
  "kernelspec": {
   "display_name": "Python 3",
   "language": "python",
   "name": "python3"
  },
  "language_info": {
   "codemirror_mode": {
    "name": "ipython",
    "version": 3
   },
   "file_extension": ".py",
   "mimetype": "text/x-python",
   "name": "python",
   "nbconvert_exporter": "python",
   "pygments_lexer": "ipython3",
   "version": "3.6.5"
  }
 },
 "nbformat": 4,
 "nbformat_minor": 2
}
